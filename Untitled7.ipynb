{
  "nbformat": 4,
  "nbformat_minor": 0,
  "metadata": {
    "colab": {
      "provenance": [],
      "authorship_tag": "ABX9TyP/j0RRsHemwPrXC4PMXDNS",
      "include_colab_link": true
    },
    "kernelspec": {
      "name": "python3",
      "display_name": "Python 3"
    },
    "language_info": {
      "name": "python"
    }
  },
  "cells": [
    {
      "cell_type": "markdown",
      "metadata": {
        "id": "view-in-github",
        "colab_type": "text"
      },
      "source": [
        "<a href=\"https://colab.research.google.com/github/algiasas/Pamokos/blob/main/Untitled7.ipynb\" target=\"_parent\"><img src=\"https://colab.research.google.com/assets/colab-badge.svg\" alt=\"Open In Colab\"/></a>"
      ]
    },
    {
      "cell_type": "code",
      "execution_count": null,
      "metadata": {
        "id": "cRSFVgou_lWl"
      },
      "outputs": [],
      "source": []
    },
    {
      "cell_type": "code",
      "source": [
        "from google.colab import drive\n",
        "drive.mount('/content/drive')"
      ],
      "metadata": {
        "id": "z4dV6eMqCHF3"
      },
      "execution_count": null,
      "outputs": []
    },
    {
      "cell_type": "markdown",
      "source": [
        "# **Skaičių sudėtis**"
      ],
      "metadata": {
        "id": "g0oJcRJX_wfl"
      }
    },
    {
      "cell_type": "markdown",
      "source": [
        "norint sudėti du skaičius, reikia naudoti +"
      ],
      "metadata": {
        "id": "7kOX563T_3sM"
      }
    },
    {
      "cell_type": "code",
      "source": [
        "num1 = float(input(\"Įveskite pirmą skaičių: \"))\n",
        "num2 = float(input(\"Įveskite antrą skaičių: \"))\n",
        "suma = num1 + num2\n",
        "print(f\"Suma: {suma}\")"
      ],
      "metadata": {
        "colab": {
          "base_uri": "https://localhost:8080/"
        },
        "id": "4mQ155ocAyw-",
        "outputId": "84444c8a-1a3c-4216-dcda-b8a429d06c59"
      },
      "execution_count": null,
      "outputs": [
        {
          "output_type": "stream",
          "name": "stdout",
          "text": [
            "Įveskite pirmą skaičių: 5\n",
            "Įveskite antrą skaičių: 6\n",
            "Suma: 11.0\n"
          ]
        }
      ]
    }
  ]
}