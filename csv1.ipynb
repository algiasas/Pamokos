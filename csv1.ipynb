{
  "nbformat": 4,
  "nbformat_minor": 0,
  "metadata": {
    "colab": {
      "provenance": [],
      "authorship_tag": "ABX9TyPw7uQWttKnrZbMHTzgUXJq",
      "include_colab_link": true
    },
    "kernelspec": {
      "name": "python3",
      "display_name": "Python 3"
    },
    "language_info": {
      "name": "python"
    }
  },
  "cells": [
    {
      "cell_type": "markdown",
      "metadata": {
        "id": "view-in-github",
        "colab_type": "text"
      },
      "source": [
        "<a href=\"https://colab.research.google.com/github/algiasas/Pamokos/blob/main/csv1.ipynb\" target=\"_parent\"><img src=\"https://colab.research.google.com/assets/colab-badge.svg\" alt=\"Open In Colab\"/></a>"
      ]
    },
    {
      "cell_type": "code",
      "execution_count": null,
      "metadata": {
        "id": "uBnHFsr-m8Vo"
      },
      "outputs": [],
      "source": []
    },
    {
      "cell_type": "markdown",
      "source": [
        "**Duomenų skaitymas iš csv failų**"
      ],
      "metadata": {
        "id": "0qitrDN9m_Cv"
      }
    },
    {
      "cell_type": "markdown",
      "source": [
        "Norėdami nuskaityti duomenis iš csv failų pirma turime žinoti, kokia informacija yra csv failuose: ar tik skaitinė, ar tik tekstinė, ar mišri - ir tekstinė, ir skaitinė.\n",
        "Pirmiausia nuskaitysime vien tik skaitinius duomenis iš failo."
      ],
      "metadata": {
        "id": "BBUJTW6TnT37"
      }
    },
    {
      "cell_type": "code",
      "source": [
        "%%writefile main.cpp\n",
        "\n",
        "#include <iostream>\n",
        "#include <bits/stdc++.h>\n",
        "\n",
        "using namespace std;\n",
        "\n",
        "struct duomenys{\n",
        "int val, min1, sk1, sk2, sk3;};\n",
        "\n",
        "int main()\n",
        "{\n",
        "    duomenys A[20];\n",
        "    char k;\n",
        "    string antraste;\n",
        "\n",
        "    ifstream D(\"duomenys.csv\");\n",
        "    getline (D, antraste);\n",
        "    int n = 0;\n",
        "    while (D>>A[n].val >> k >> A[n].min1 >> k >> A[n].sk1 >> k >> A[n].sk2 >> k >> A[n].sk3)\n",
        "      n++;\n",
        "    D.close();\n",
        "    cout << antraste<<endl;\n",
        "    for (int i = 0; i< n; i++)\n",
        "        cout <<A[i].val << \" \"<< A[i].min1 << \" \"<<  A[i].sk1<< \" \"<<  A[i].sk2 << \" \"<<  A[i].sk3 << endl;\n",
        "    return 0;\n",
        "}"
      ],
      "metadata": {
        "colab": {
          "base_uri": "https://localhost:8080/"
        },
        "id": "QWksDvuEnvaU",
        "outputId": "dee62271-32a8-47cf-b688-4f315239b480"
      },
      "execution_count": 2,
      "outputs": [
        {
          "output_type": "stream",
          "name": "stdout",
          "text": [
            "Overwriting main.cpp\n"
          ]
        }
      ]
    }
  ]
}